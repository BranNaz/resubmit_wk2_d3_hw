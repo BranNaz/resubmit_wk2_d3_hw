{
 "cells": [
  {
   "cell_type": "markdown",
   "metadata": {},
   "source": [
    "# Object-Oriented-Programming (OOP)"
   ]
  },
  {
   "cell_type": "markdown",
   "metadata": {},
   "source": [
    "## Tasks Today:\n",
    "\n",
    "   \n",
    "\n",
    "1) <b>Creating a Class (Initializing/Declaring)</b> <br>\n",
    "2) <b>Using a Class (Instantiating)</b> <br>\n",
    " &nbsp;&nbsp;&nbsp;&nbsp; a) Creating One Instance <br>\n",
    " &nbsp;&nbsp;&nbsp;&nbsp; b) Creating Multiple Instances <br>\n",
    " &nbsp;&nbsp;&nbsp;&nbsp; c) In-Class Exercise #1 - Create a Class 'Car' and instantiate three different makes of cars <br>\n",
    "3) <b>The \\__init\\__() Method</b> <br>\n",
    " &nbsp;&nbsp;&nbsp;&nbsp; a) The 'self' Attribute <br>\n",
    "4) <b>Class Attributes</b> <br>\n",
    " &nbsp;&nbsp;&nbsp;&nbsp; a) Initializing Attributes <br>\n",
    " &nbsp;&nbsp;&nbsp;&nbsp; b) Setting an Attribute Outside of the \\__init\\__() Method <br>\n",
    " &nbsp;&nbsp;&nbsp;&nbsp; c) Setting Defaults for Attributes <br>\n",
    " &nbsp;&nbsp;&nbsp;&nbsp; d) Accessing Class Attributes <br>\n",
    " &nbsp;&nbsp;&nbsp;&nbsp; e) Changing Class Attributes <br>\n",
    " &nbsp;&nbsp;&nbsp;&nbsp; f) In-Class Exercise #2 - Add a color and wheels attribute to your 'Car' class <br>\n",
    "5) <b>Class Methods</b> <br>\n",
    " &nbsp;&nbsp;&nbsp;&nbsp; a) Creating <br>\n",
    " &nbsp;&nbsp;&nbsp;&nbsp; b) Calling <br>\n",
    " &nbsp;&nbsp;&nbsp;&nbsp; c) Modifying an Attribute's Value Through a Method <br>\n",
    " &nbsp;&nbsp;&nbsp;&nbsp; d) Incrementing an Attribute's Value Through a Method <br>\n",
    " &nbsp;&nbsp;&nbsp;&nbsp; e) In-Class Exercise #3 - Add a method that prints the cars color and wheel number, then call them <br>\n",
    "6) <b>Inheritance</b> <br>\n",
    " &nbsp;&nbsp;&nbsp;&nbsp; a) Syntax for Inheriting from a Parent Class <br>\n",
    " &nbsp;&nbsp;&nbsp;&nbsp; b) The \\__init\\__() Method for a Child Class (super()) <br>\n",
    " &nbsp;&nbsp;&nbsp;&nbsp; c) Defining Attributes and Methods for the Child Class <br>\n",
    " &nbsp;&nbsp;&nbsp;&nbsp; d) Method Overriding <br>\n",
    " &nbsp;&nbsp;&nbsp;&nbsp; e) In-Class Exercise #4 - Create a class 'Ford' that inherits from 'Car' class and initialize it as a Blue Ford Explorer with 4 wheels using the super() method <br>\n",
    "7) <b>Classes as Attributes</b> <br>\n",
    "8) <b>Exercises</b> <br>\n",
    " &nbsp;&nbsp;&nbsp;&nbsp; a) Exercise #1 - Turn the shopping cart program from yesterday into an object-oriented program <br>"
   ]
  },
  {
   "cell_type": "markdown",
   "metadata": {},
   "source": [
    "## Creating a Class (Initializing/Declaring)\n",
    "<p>When creating a class, function, or even a variable you are initializing that object. Initializing and Declaring occur at the same time in Python, whereas in lower level languages you have to declare an object before initializing it. This is the first step in the process of using a class.</p>"
   ]
  },
  {
   "cell_type": "code",
   "execution_count": 11,
   "metadata": {},
   "outputs": [],
   "source": [
    "class Car():\n",
    "    wheels = 4\n",
    "    color = 'blue'"
   ]
  },
  {
   "cell_type": "markdown",
   "metadata": {},
   "source": [
    "## Using a Class (Instantiating)\n",
    "<p>The process of creating a class is called <i>Instantiating</i>. Each time you create a variable of that type of class, it is referred to as an <i>Instance</i> of that class. This is the second step in the process of using a class.</p>"
   ]
  },
  {
   "cell_type": "markdown",
   "metadata": {},
   "source": [
    "##### Creating One Instance"
   ]
  },
  {
   "cell_type": "code",
   "execution_count": 12,
   "metadata": {},
   "outputs": [
    {
     "name": "stdout",
     "output_type": "stream",
     "text": [
      "<class '__main__.Car'>\n",
      "red blue\n"
     ]
    }
   ],
   "source": [
    "car1 = Car()\n",
    "print(type(car1))\n",
    "c2 = Car()\n",
    "c3 = Car()\n",
    "c4 = Car()\n",
    "\n",
    "c3.color = \"red\"\n",
    "print(c3.color , c4.color)"
   ]
  },
  {
   "cell_type": "markdown",
   "metadata": {},
   "source": [
    "##### Creating Multiple Instances"
   ]
  },
  {
   "cell_type": "code",
   "execution_count": null,
   "metadata": {},
   "outputs": [],
   "source": []
  },
  {
   "cell_type": "markdown",
   "metadata": {},
   "source": [
    "##### In-Class Exercise #1 - Create a Class 'Car' and Instantiate three different makes of cars"
   ]
  },
  {
   "cell_type": "code",
   "execution_count": 13,
   "metadata": {},
   "outputs": [
    {
     "name": "stdout",
     "output_type": "stream",
     "text": [
      "blue 4\n"
     ]
    }
   ],
   "source": [
    "class Car():\n",
    "    wheels = 4\n",
    "    color = 'yellow'\n",
    "\n",
    "car1 = Car()\n",
    "car2 = Car()\n",
    "car3 = Car()\n",
    "\n",
    "car1.color = \"blue\"\n",
    "print(car1.color , car1.wheels)\n"
   ]
  },
  {
   "cell_type": "markdown",
   "metadata": {},
   "source": [
    "## The \\__init\\__() Method <br>\n",
    "<p>This method is used in almost every created class, and called only once upon the creation of the class instance. This method will initialize all variables needed for the object.</p>"
   ]
  },
  {
   "cell_type": "code",
   "execution_count": 22,
   "metadata": {},
   "outputs": [
    {
     "name": "stdout",
     "output_type": "stream",
     "text": [
      "4\n",
      "blue\n",
      "Dodge\n",
      "Avenger\n",
      "2012\n",
      "4\n",
      "red\n",
      "Dodge\n",
      "Avenger\n",
      "2014\n"
     ]
    }
   ],
   "source": [
    "class Car():\n",
    "\n",
    "    wheels = 4\n",
    "\n",
    "    def __init__(self, c, make, model, year): #aka the constructor\n",
    "        self.color  = c\n",
    "        self.make = make\n",
    "        self.model = model\n",
    "        self.year = year\n",
    "\n",
    "car1 = Car('blue', 'Dodge', 'Avenger', 2012)\n",
    "print(car1.wheels)\n",
    "print(car1.color)\n",
    "print(car1.make)\n",
    "print(car1.model)\n",
    "print(car1.year)\n",
    "\n",
    "car2 = Car('red', 'Dodge', 'Avenger', 2014)\n",
    "print(car2.wheels)\n",
    "print(car2.color)\n",
    "print(car2.make)\n",
    "print(car2.model)\n",
    "print(car2.year)\n"
   ]
  },
  {
   "cell_type": "markdown",
   "metadata": {},
   "source": [
    "##### The 'self' Attribute <br>\n",
    "<p>This attribute is required to keep track of specific instance's attributes. Without the self attribute, the program would not know how to reference or keep track of an instance's attributes.</p>"
   ]
  },
  {
   "cell_type": "code",
   "execution_count": null,
   "metadata": {},
   "outputs": [],
   "source": [
    "# see above"
   ]
  },
  {
   "cell_type": "markdown",
   "metadata": {},
   "source": [
    "## Class Attributes <br>\n",
    "<p>While variables are inside of a class, they are referred to as attributes and not variables. When someone says 'attribute' you know they're speaking about a class. Attributes can be initialized through the init method, or outside of it.</p>"
   ]
  },
  {
   "cell_type": "markdown",
   "metadata": {},
   "source": [
    "##### Initializing Attributes"
   ]
  },
  {
   "cell_type": "code",
   "execution_count": null,
   "metadata": {},
   "outputs": [],
   "source": [
    "# see above"
   ]
  },
  {
   "cell_type": "markdown",
   "metadata": {},
   "source": [
    "##### Accessing Class Attributes"
   ]
  },
  {
   "cell_type": "code",
   "execution_count": null,
   "metadata": {
    "scrolled": true
   },
   "outputs": [],
   "source": [
    "# See Above"
   ]
  },
  {
   "cell_type": "markdown",
   "metadata": {},
   "source": [
    "##### Setting Defaults for Attributes"
   ]
  },
  {
   "cell_type": "code",
   "execution_count": null,
   "metadata": {},
   "outputs": [],
   "source": []
  },
  {
   "cell_type": "markdown",
   "metadata": {},
   "source": [
    "##### Changing Class Attributes <br>\n",
    "<p>Keep in mind there are global class attributes and then there are attributes only available to each class instance which won't effect other classes.</p>"
   ]
  },
  {
   "cell_type": "code",
   "execution_count": null,
   "metadata": {},
   "outputs": [],
   "source": []
  },
  {
   "cell_type": "code",
   "execution_count": null,
   "metadata": {},
   "outputs": [],
   "source": []
  },
  {
   "cell_type": "markdown",
   "metadata": {},
   "source": [
    "##### In-Class Exercise #2 - Add a doors and seats attribute to your 'Car' class then print out two different instances with different doors and seats"
   ]
  },
  {
   "cell_type": "code",
   "execution_count": null,
   "metadata": {},
   "outputs": [],
   "source": []
  },
  {
   "cell_type": "markdown",
   "metadata": {},
   "source": [
    "## Class Methods <br>\n",
    "<p>While inside of a class, functions are referred to as 'methods'. If you hear someone mention methods, they're speaking about classes. Methods are essentially functions, but only callable on the instances of a class.</p>"
   ]
  },
  {
   "cell_type": "markdown",
   "metadata": {},
   "source": [
    "##### Creating"
   ]
  },
  {
   "cell_type": "code",
   "execution_count": 1,
   "metadata": {},
   "outputs": [
    {
     "ename": "TypeError",
     "evalue": "'str' object is not callable",
     "output_type": "error",
     "traceback": [
      "\u001b[1;31m---------------------------------------------------------------------------\u001b[0m",
      "\u001b[1;31mTypeError\u001b[0m                                 Traceback (most recent call last)",
      "\u001b[1;32mc:\\Users\\Brandon\\Documents\\Coding_Temple\\week_2\\day_3\\Thursday_Lesson_Inclass.ipynb Cell 30\u001b[0m in \u001b[0;36m<cell line: 23>\u001b[1;34m()\u001b[0m\n\u001b[0;32m     <a href='vscode-notebook-cell:/c%3A/Users/Brandon/Documents/Coding_Temple/week_2/day_3/Thursday_Lesson_Inclass.ipynb#ch0000029?line=18'>19</a>\u001b[0m         \u001b[39mself\u001b[39m\u001b[39m.\u001b[39mlast_name \u001b[39m=\u001b[39m l_name\n\u001b[0;32m     <a href='vscode-notebook-cell:/c%3A/Users/Brandon/Documents/Coding_Temple/week_2/day_3/Thursday_Lesson_Inclass.ipynb#ch0000029?line=19'>20</a>\u001b[0m         \u001b[39mself\u001b[39m\u001b[39m.\u001b[39memail \u001b[39m=\u001b[39m \u001b[39mself\u001b[39m\u001b[39m.\u001b[39mfirst_name \u001b[39m+\u001b[39m \u001b[39m'\u001b[39m\u001b[39m.\u001b[39m\u001b[39m'\u001b[39m\u001b[39m+\u001b[39m l_name \u001b[39m+\u001b[39m \u001b[39m'\u001b[39m\u001b[39m@company.com\u001b[39m\u001b[39m'\u001b[39m\u001b[39m.\u001b[39mlower()\n\u001b[1;32m---> <a href='vscode-notebook-cell:/c%3A/Users/Brandon/Documents/Coding_Temple/week_2/day_3/Thursday_Lesson_Inclass.ipynb#ch0000029?line=22'>23</a>\u001b[0m e1 \u001b[39m=\u001b[39m Employee(\u001b[39m\"\u001b[39;49m\u001b[39mBrandon\u001b[39;49m\u001b[39m\"\u001b[39;49m, \u001b[39m\"\u001b[39;49m\u001b[39mNazario\u001b[39;49m\u001b[39m\"\u001b[39;49m, \u001b[39m90000\u001b[39;49m)\n\u001b[0;32m     <a href='vscode-notebook-cell:/c%3A/Users/Brandon/Documents/Coding_Temple/week_2/day_3/Thursday_Lesson_Inclass.ipynb#ch0000029?line=23'>24</a>\u001b[0m e2 \u001b[39m=\u001b[39m Employee(\u001b[39m\"\u001b[39m\u001b[39mJoshua\u001b[39m\u001b[39m\"\u001b[39m, \u001b[39m\"\u001b[39m\u001b[39mVelez\u001b[39m\u001b[39m\"\u001b[39m)\n\u001b[0;32m     <a href='vscode-notebook-cell:/c%3A/Users/Brandon/Documents/Coding_Temple/week_2/day_3/Thursday_Lesson_Inclass.ipynb#ch0000029?line=24'>25</a>\u001b[0m e3 \u001b[39m=\u001b[39m Employee(\u001b[39m\"\u001b[39m\u001b[39mCole\u001b[39m\u001b[39m\"\u001b[39m, \u001b[39m\"\u001b[39m\u001b[39mKelly\u001b[39m\u001b[39m\"\u001b[39m, \u001b[39m100000\u001b[39m)\n",
      "\u001b[1;32mc:\\Users\\Brandon\\Documents\\Coding_Temple\\week_2\\day_3\\Thursday_Lesson_Inclass.ipynb Cell 30\u001b[0m in \u001b[0;36mEmployee.__init__\u001b[1;34m(self, f_name, l_name, salary)\u001b[0m\n\u001b[0;32m      <a href='vscode-notebook-cell:/c%3A/Users/Brandon/Documents/Coding_Temple/week_2/day_3/Thursday_Lesson_Inclass.ipynb#ch0000029?line=2'>3</a>\u001b[0m \u001b[39mself\u001b[39m\u001b[39m.\u001b[39mfirst_name \u001b[39m=\u001b[39m f_name\u001b[39m.\u001b[39mtitle()\n\u001b[0;32m      <a href='vscode-notebook-cell:/c%3A/Users/Brandon/Documents/Coding_Temple/week_2/day_3/Thursday_Lesson_Inclass.ipynb#ch0000029?line=3'>4</a>\u001b[0m \u001b[39mself\u001b[39m\u001b[39m.\u001b[39mlast_name \u001b[39m=\u001b[39m l_name\u001b[39m.\u001b[39mtitle()\n\u001b[1;32m----> <a href='vscode-notebook-cell:/c%3A/Users/Brandon/Documents/Coding_Temple/week_2/day_3/Thursday_Lesson_Inclass.ipynb#ch0000029?line=4'>5</a>\u001b[0m \u001b[39mself\u001b[39m\u001b[39m.\u001b[39memail \u001b[39m=\u001b[39m (f_name\u001b[39m+\u001b[39m\u001b[39m'\u001b[39m\u001b[39m.\u001b[39m\u001b[39m'\u001b[39m\u001b[39m+\u001b[39ml_name()\u001b[39m+\u001b[39m\u001b[39m'\u001b[39m\u001b[39m@company.com\u001b[39m\u001b[39m'\u001b[39m)\u001b[39m.\u001b[39mlower()\n\u001b[0;32m      <a href='vscode-notebook-cell:/c%3A/Users/Brandon/Documents/Coding_Temple/week_2/day_3/Thursday_Lesson_Inclass.ipynb#ch0000029?line=5'>6</a>\u001b[0m \u001b[39mself\u001b[39m\u001b[39m.\u001b[39mraise_amaount \u001b[39m=\u001b[39m \u001b[39m1.05\u001b[39m\n\u001b[0;32m      <a href='vscode-notebook-cell:/c%3A/Users/Brandon/Documents/Coding_Temple/week_2/day_3/Thursday_Lesson_Inclass.ipynb#ch0000029?line=6'>7</a>\u001b[0m \u001b[39mself\u001b[39m\u001b[39m.\u001b[39msalary \u001b[39m=\u001b[39m salary\n",
      "\u001b[1;31mTypeError\u001b[0m: 'str' object is not callable"
     ]
    }
   ],
   "source": [
    "class Employee():\n",
    "    def __init__(self, f_name, l_name, salary = 200000):\n",
    "        self.first_name = f_name.title()\n",
    "        self.last_name = l_name.title()\n",
    "        self.email = (f_name+'.'+l_name()+'@company.com').lower()\n",
    "        self.raise_amaount = 1.05\n",
    "        self.salary = salary\n",
    "\n",
    "\n",
    "# getter method\n",
    "    def getFullName(self):\n",
    "        return f'{self.first_name} {self.last.name}'\n",
    "\n",
    "    # setter method\n",
    "    def applyRaise(self):\n",
    "        self.salary - int(self.salary * self.raise_amaount)\n",
    "\n",
    "    def changeLastName(self, l_name):\n",
    "        self.last_name = l_name\n",
    "        self.email = self.first_name + '.'+ l_name + '@company.com'.lower()\n",
    "\n",
    "\n",
    "e1 = Employee(\"Brandon\", \"Nazario\", 90000)\n",
    "e2 = Employee(\"Joshua\", \"Velez\")\n",
    "e3 = Employee(\"Cole\", \"Kelly\", 100000)\n",
    "\n",
    "\n",
    "print(e3.getFullName())\n",
    "print(e3.email)\n",
    "\n",
    "print(e1.salary)\n",
    "e1.applyRaise()\n",
    "print(e1.salary)\n",
    "\n",
    "\n",
    "print(e2.getFullName())\n",
    "print(e2.email)\n",
    "print(e2.changeLastName())\n",
    "print(e2.getFullName())\n",
    "print(e2.email)\n"
   ]
  },
  {
   "cell_type": "markdown",
   "metadata": {},
   "source": [
    "##### Calling"
   ]
  },
  {
   "cell_type": "code",
   "execution_count": null,
   "metadata": {},
   "outputs": [],
   "source": [
    "# See Above"
   ]
  },
  {
   "cell_type": "markdown",
   "metadata": {},
   "source": [
    "##### Modifying an Attribute's Value Through a Method"
   ]
  },
  {
   "cell_type": "code",
   "execution_count": null,
   "metadata": {},
   "outputs": [],
   "source": []
  },
  {
   "cell_type": "markdown",
   "metadata": {},
   "source": [
    "##### Incrementing an Attribute's Value Through a Method"
   ]
  },
  {
   "cell_type": "code",
   "execution_count": null,
   "metadata": {},
   "outputs": [],
   "source": []
  },
  {
   "cell_type": "markdown",
   "metadata": {},
   "source": [
    "##### In-Class Exercise #3 - Add a method that takes in three parameters of year, doors and seats and prints out a formatted print statement with make, model, year, seats, and doors"
   ]
  },
  {
   "cell_type": "code",
   "execution_count": null,
   "metadata": {},
   "outputs": [],
   "source": [
    "# Create class with 2 paramters inside of the __init__ which are make and model\n",
    "\n",
    "# Inside of the Car class create a method that has 4 parameter in total (self,year,door,seats)\n",
    "\n",
    "# Output: This car is from 2019 and is a Ford Expolorer and has 4 doors and 5 seats\n",
    "\n"
   ]
  },
  {
   "cell_type": "markdown",
   "metadata": {},
   "source": [
    "## Inheritance <br>\n",
    "<p>You can create a child-parent relationship between two classes by using inheritance. What this allows you to do is have overriding methods, but also inherit traits from the parent class. Think of it as an actual parent and child, the child will inherit the parent's genes, as will the classes in OOP</p>"
   ]
  },
  {
   "cell_type": "markdown",
   "metadata": {},
   "source": [
    "##### Syntax for Inheriting from a Parent Class"
   ]
  },
  {
   "cell_type": "code",
   "execution_count": 37,
   "metadata": {},
   "outputs": [
    {
     "name": "stdout",
     "output_type": "stream",
     "text": [
      "{'name': 'Marlee', 'species': 'Canine', 'legs': 4, 'isFast': True, 'isDog': True}\n",
      "Woof\n",
      "mewo\n",
      "...\n",
      "...\n",
      "...\n",
      "{'name': 'Shadow', 'species': 'Feline', 'legs': 4}\n"
     ]
    }
   ],
   "source": [
    "# Parent Class\n",
    "class Animal():\n",
    "    def __init__(self, name, species, legs = 4):\n",
    "        self.name = name \n",
    "        self.species = species\n",
    "        self.legs = legs\n",
    "    def talk(self):\n",
    "        print('...')\n",
    "    def breathe(self):\n",
    "        print('...')\n",
    "\n",
    "\n",
    "# child class\n",
    "class Dog(Animal):\n",
    "    # constructor method will override the inherited classes init method\n",
    "    def __init__(self, name, species, legs=4, isFast = True):\n",
    "        Animal.__init__(self, name, species, legs)\n",
    "        self.isFast = isFast\n",
    "        self.isDog = True\n",
    "\n",
    "    def talk(self):\n",
    "        print('Woof')\n",
    "\n",
    "\n",
    "class Cat(Animal):\n",
    "        def __init__(self, name, species, legs = 4, isFast = False):\n",
    "            super().__init__(name, species, legs)\n",
    "            isFast = isFast\n",
    "        def talk(self):\n",
    "             print('mewo')\n",
    "\n",
    "\n",
    "a1 = Animal(\"Brandon\", \"Human\", 2)\n",
    "d1 = Dog(\"Marlee\", \"Canine\")\n",
    "c1 = Cat(\"Shadow\", \"Feline\")\n",
    "\n",
    "print(d1.__dict__)\n",
    "d1.talk()\n",
    "c1.talk()\n",
    "a1.talk()\n",
    "d1.breathe()\n",
    "c1.breathe()\n",
    "print(c1.__dict__)\n",
    "        "
   ]
  },
  {
   "cell_type": "markdown",
   "metadata": {},
   "source": [
    "##### The \\__init\\__() Method for a Child Class - super()"
   ]
  },
  {
   "cell_type": "code",
   "execution_count": null,
   "metadata": {
    "scrolled": true
   },
   "outputs": [],
   "source": []
  },
  {
   "cell_type": "markdown",
   "metadata": {},
   "source": [
    "##### Defining Attributes and Methods for the Child Class"
   ]
  },
  {
   "cell_type": "code",
   "execution_count": null,
   "metadata": {},
   "outputs": [],
   "source": [
    "# See Above"
   ]
  },
  {
   "cell_type": "markdown",
   "metadata": {},
   "source": [
    "##### Method Overriding"
   ]
  },
  {
   "cell_type": "code",
   "execution_count": null,
   "metadata": {},
   "outputs": [],
   "source": [
    "# See Above"
   ]
  },
  {
   "cell_type": "markdown",
   "metadata": {},
   "source": [
    "## Classes as Attributes <br>\n",
    "<p>Classes can also be used as attributes within another class. This is useful in situations where you need to keep variables locally stored, instead of globally stored.</p>"
   ]
  },
  {
   "cell_type": "code",
   "execution_count": null,
   "metadata": {},
   "outputs": [],
   "source": []
  },
  {
   "cell_type": "markdown",
   "metadata": {},
   "source": [
    "# Exercises"
   ]
  },
  {
   "cell_type": "markdown",
   "metadata": {},
   "source": [
    "### Exercise 1 - Turn the shopping cart program from yesterday into an object-oriented program\n",
    "\n",
    "The comments in the cell below are there as a guide for thinking about the problem. However, if you feel a different way is best for you and your own thought process, please do what feels best for you by all means."
   ]
  },
  {
   "cell_type": "code",
   "execution_count": 68,
   "metadata": {},
   "outputs": [
    {
     "ename": "TypeError",
     "evalue": "__init__() missing 2 required positional arguments: 'remove_list' and 'show_list'",
     "output_type": "error",
     "traceback": [
      "\u001b[1;31m---------------------------------------------------------------------------\u001b[0m",
      "\u001b[1;31mTypeError\u001b[0m                                 Traceback (most recent call last)",
      "\u001b[1;32mc:\\Users\\Brandon\\Documents\\Coding_Temple\\week_2\\day_3\\Thursday_Lesson_Inclass.ipynb Cell 52'\u001b[0m in \u001b[0;36m<cell line: 44>\u001b[1;34m()\u001b[0m\n\u001b[0;32m     <a href='vscode-notebook-cell:/c%3A/Users/Brandon/Documents/Coding_Temple/week_2/day_3/Thursday_Lesson_Inclass.ipynb#ch0000051?line=40'>41</a>\u001b[0m             \u001b[39melif\u001b[39;00m action \u001b[39m==\u001b[39m \u001b[39m'\u001b[39m\u001b[39mquit\u001b[39m\u001b[39m'\u001b[39m:\n\u001b[0;32m     <a href='vscode-notebook-cell:/c%3A/Users/Brandon/Documents/Coding_Temple/week_2/day_3/Thursday_Lesson_Inclass.ipynb#ch0000051?line=41'>42</a>\u001b[0m                 \u001b[39mbreak\u001b[39;00m\n\u001b[1;32m---> <a href='vscode-notebook-cell:/c%3A/Users/Brandon/Documents/Coding_Temple/week_2/day_3/Thursday_Lesson_Inclass.ipynb#ch0000051?line=43'>44</a>\u001b[0m cartlist \u001b[39m=\u001b[39m Cart(\u001b[39m'\u001b[39;49m\u001b[39mAdd\u001b[39;49m\u001b[39m'\u001b[39;49m \u001b[39m'\u001b[39;49m\u001b[39mRemove\u001b[39;49m\u001b[39m'\u001b[39;49m\u001b[39m'\u001b[39;49m\u001b[39mShow\u001b[39;49m\u001b[39m'\u001b[39;49m)\n\u001b[0;32m     <a href='vscode-notebook-cell:/c%3A/Users/Brandon/Documents/Coding_Temple/week_2/day_3/Thursday_Lesson_Inclass.ipynb#ch0000051?line=44'>45</a>\u001b[0m \u001b[39mprint\u001b[39m(cartlist\u001b[39m.\u001b[39mshow_list)\n\u001b[0;32m     <a href='vscode-notebook-cell:/c%3A/Users/Brandon/Documents/Coding_Temple/week_2/day_3/Thursday_Lesson_Inclass.ipynb#ch0000051?line=45'>46</a>\u001b[0m cartlist\u001b[39m.\u001b[39m\u001b[39m__dict__\u001b[39m\n",
      "\u001b[1;31mTypeError\u001b[0m: __init__() missing 2 required positional arguments: 'remove_list' and 'show_list'"
     ]
    }
   ],
   "source": [
    "# Create a class called cart that retains items and has methods to add, remove, and show\n",
    "\n",
    "class Cart():\n",
    "\n",
    "\n",
    "    def __init__(self, add_list, remove_list, show_list):\n",
    "        self.add = add_list\n",
    "        self.remove = remove_list\n",
    "        self.show = show_list\n",
    "\n",
    "\n",
    "    def addList(self):\n",
    "        item = input('What item would you like to add to your cart?').lower()\n",
    "        self.add.append(item)\n",
    "        return {self.add}\n",
    "\n",
    "\n",
    "    def removeList(self):\n",
    "        item = input(\"What item do you want to remove from your cart?\").lower()\n",
    "        if item in self.show:\n",
    "            self.show.remove(item)\n",
    "        print(f\"Succesfully removed {item} from your cart\")\n",
    "\n",
    "\n",
    "    def showList(self):\n",
    "        self.show\n",
    "        return (f'This is your cart. {self.show}')\n",
    "\n",
    "\n",
    "\n",
    "    def goShopping(self, show_list):\n",
    "        li_1 = []\n",
    "        while True:\n",
    "            action = input(\"What do you want to do? add/remove/show/quit\").lower()\n",
    "            if action == 'add':\n",
    "                self.add(li_1)\n",
    "            elif action == 'remove':\n",
    "                self.remove(li_1)\n",
    "            elif action == 'show':\n",
    "                self.show(li_1)\n",
    "            elif action == 'quit':\n",
    "                break\n",
    "\n",
    "cartlist = Cart('Add' 'Remove''Show')\n",
    "print(cartlist.show_list)\n",
    "cartlist.__dict__\n",
    "\n"
   ]
  },
  {
   "cell_type": "markdown",
   "metadata": {},
   "source": [
    "### Exercise 2 - Write a Python class which has two methods get_String and print_String. get_String accept a string from the user and print_String print the string in upper case"
   ]
  },
  {
   "cell_type": "code",
   "execution_count": 80,
   "metadata": {},
   "outputs": [
    {
     "name": "stdout",
     "output_type": "stream",
     "text": [
      "{'tickets': [20], 'parkingSpaces': [20], 'currentTicket': {'paid': False}, 'bank': 0}\n",
      "Thank you for paying. You get 15mins tops. \n",
      "None\n"
     ]
    }
   ],
   "source": [
    "# Start Your Code here\n",
    "\n",
    "class parkingGarage():\n",
    "    \n",
    "    # updated to intialize w/o any parameters- the parking spaces/tickets are a set number\n",
    "    def __init__(self):\n",
    "        self.tickets = [20]\n",
    "        self.parkingSpaces = [20]\n",
    "        self.currentTicket = {'paid' : False}\n",
    "        #just throwing this in to maybe have some fun with a print statement later; \"Look at all the money our parking garage has made!\"\n",
    "        self.bank = 0\n",
    "        \n",
    "        \n",
    "\n",
    "    def takeTicket(self):\n",
    "        if self.currentTicket == True:\n",
    "           self.tickets[0] -= 1\n",
    "           self.parkingSpaces[0] -= 1\n",
    "    \n",
    "\n",
    "\n",
    "    def payForParking(self):\n",
    "        z = input(\"Enter an amount of $35 foo! \")\n",
    "        if input == '35':\n",
    "            self.currentTicket['paid'] = True\n",
    "        print(\"Thank you for paying. You get 15mins tops. \")\n",
    "\n",
    "\n",
    "\n",
    "    def leaveGarage(self):\n",
    "        # if paid- we let them loose and reset\n",
    "        if self.currentTicket == True:\n",
    "            self.currentTicket = False\n",
    "            print('Thank You, Have a wonderful life!')\n",
    "        # Else we're gonna get that money\n",
    "        elif self.currentTicket == False:\n",
    "            x = input('Gimme all your money, how much you got???')\n",
    "            if isinstance(x, int):\n",
    "                self.currentTicket['paid'] = False\n",
    "                self.parkingSpaces[0] += 1\n",
    "                self.tickets[0] += 1\n",
    "                self.bank += x\n",
    "                print('That works, have a great day!')\n",
    "            else:\n",
    "                # Just trying to have some fun with error handling\n",
    "                y = input(\"Don't make me bust a kneecap, give me a number. . . \")\n",
    "                self.currentTicket['paid'] = False\n",
    "                self.parkingSpaces[0] += 1\n",
    "                self.tickets[0] += 1\n",
    "                self.bank += y\n",
    "                print('That works, have a great day!')\n",
    "\n",
    "\n",
    "\n",
    "parking = parkingGarage()\n",
    "print(parking.__dict__)\n",
    "print(parking.payForParking())"
   ]
  }
 ],
 "metadata": {
  "kernelspec": {
   "display_name": "Python 3.9.13 64-bit",
   "language": "python",
   "name": "python3"
  },
  "language_info": {
   "codemirror_mode": {
    "name": "ipython",
    "version": 3
   },
   "file_extension": ".py",
   "mimetype": "text/x-python",
   "name": "python",
   "nbconvert_exporter": "python",
   "pygments_lexer": "ipython3",
   "version": "3.9.13"
  },
  "vscode": {
   "interpreter": {
    "hash": "841f6e9e7907cc7639058be9851d88b85fadf3c9f9317707a4c07223369a2705"
   }
  }
 },
 "nbformat": 4,
 "nbformat_minor": 2
}
